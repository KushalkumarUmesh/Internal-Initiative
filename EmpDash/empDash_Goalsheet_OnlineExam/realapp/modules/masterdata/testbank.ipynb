{
 "cells": [
  {
   "cell_type": "code",
   "execution_count": null,
   "metadata": {
    "collapsed": true
   },
   "outputs": [],
   "source": [
    "\"\"\"\n",
    "Project: OnlineExam\n",
    "Domain: TestBank\n",
    "Description: The TestBank handles all functionalities related to Test Definitions by picking-up questions from multiple\n",
    "Question Banks and adding some additional attributes (passing marks, total num of questions, etc.)\n",
    "The following need to be supplied. Responses are expected to be JSON or dict, depending on a global flag. JSON is for Angular2\n",
    "UI. Ability to return the data as-is allows for alternate processing e.g. storing in DB\n",
    "TODO=a)- List of Tests (Questions) - This is collected from all the Test-Definitions, check needs to made for Unique\n",
    "    => This has not been fully implemented, need to see how to render a list\n",
    "b)- List of Difficulty Levels(Questions) - Collated Test-Definitions --?\n",
    "c)Generate Question-Set - Exam and non-Exam by calling the methods in the question-bank : Main Purpose\n",
    "\n",
    "Author: K.Srinivas\n",
    "16-Mar-2018\n",
    "\"\"\""
   ]
  },
  {
   "cell_type": "code",
   "execution_count": 5,
   "metadata": {
    "collapsed": true
   },
   "outputs": [],
   "source": [
    "import glob\n",
    "import openpyxl\n",
    "import pandas as pd\n",
    "import sys\n",
    "import json\n",
    "from questionbank import QuestionBank\n",
    "sys.path.insert(0,'..')\n",
    "\n",
    "from ReadConfig.AppConfig import AppConfig\n",
    "\n",
    "# This class reads reads Test Definition-XLS files collates data for future use\n",
    "# Data is expected to be small enough to be read and stored in memory.\n",
    "# Core Function is to return a set of questions as per the test-definition\n",
    "# I use appConfig heavily. All the paths, values needed must be defined in Appconfig\n",
    "class TestBank(object) :\n",
    "    def __init__(self, appConf) :\n",
    "        tmatch = appConf.attribute[\"TestMatch\"] # Directory containing all the test-definitions\n",
    "        tRow = 3 # appConf.attribute[\"TOPICROW\"] # Row to find TOPIC in the XLS-file, will assume the remaining two\n",
    "        tCol = 2 # appConf.attribute[\"TOPICROW\"] \n",
    "        self.testsAll = dict() # All Tests stored\n",
    "        self.testList = dict() # List of all tests, for UI purpose only\n",
    "        self.qb = dict() # Question Bank\n",
    "        \n",
    "        for file in glob.glob(tmatch):  # For each of the question banks\n",
    "            tbank = dict() # Define a question Bank\n",
    "            #Get title, Get Subtitle, Get Desc\n",
    "            conf_wb = openpyxl.load_workbook(file)\n",
    "            ws = conf_wb.worksheets[0] # Assume only 1 worksheet\n",
    "            if len(conf_wb.worksheets) > 1 : # Error Check\n",
    "                print(\"More than one worksheets found in %s\" % (file))\n",
    "                \n",
    "            c_row =  tRow\n",
    "            # Test Name  = Description\n",
    "            tn = ws.cell(row=c_row, column=tCol).value # Name of the Test\n",
    "            td = ws.cell(row=c_row, column=(tCol+1)).value # Test Description\n",
    "            c_row +=1  \n",
    "            tnumQ = ws.cell(row=c_row, column=tCol).value # Number of questions\n",
    "            c_row +=1 \n",
    "            tdiff = ws.cell(row=c_row, column=tCol).value # Difficulty level\n",
    "            c_row +=1\n",
    "            tpass = ws.cell(row=c_row, column=tCol).value # Pass-number\n",
    "            c_row +=1\n",
    "            tset1_topic =  ws.cell(row=c_row, column=tCol).value # Topic\n",
    "            tset1_subtopic =  ws.cell(row=c_row, column=tCol+1).value # Subtopic\n",
    "            tset1_numq = ws.cell(row=c_row, column=tCol+2).value # Num of questions from this set\n",
    "            tset1_diff =  ws.cell(row=c_row, column=tCol+3).value # diff-level from this set\n",
    "            \n",
    "            tname = dict()\n",
    "            tname[\"TestName\"] = tn\n",
    "            tname[\"DESCRIPTION\"] = td\n",
    "            tname[\"NoOfQuestions\"] = tnumQ\n",
    "            tname[\"DifficultyLevel\"] = tdiff\n",
    "            tname[\"PassNum\"] = tpass\n",
    "            tname[\"Qbank1\"] = [tset1_topic,tset1_subtopic, tset1_numq, tset1_diff ]\n",
    "            tname[\"FileName\"] = file # Name of the File we read this from, for debugging/error reporting purposes\n",
    "            self.testList[tn] = td  # Create a list of Test-Names, with description as the value\n",
    "                         \n",
    "            self.testsAll[tn] = tname # Our final collection\n",
    "\n",
    "    # This is needed so as to \n",
    "    def setQuestionBank(self, qb) :\n",
    "        self.qb = qb\n",
    "\n",
    "    def getTestDesc(self, testName) :\n",
    "        tData = self.testsAll[testName] # Get the Dict of the Test\n",
    "        return tData[\"DESCRIPTION\"]\n",
    "\n",
    "    def getTestNoOfQuestions(self, testName) :\n",
    "        tData = self.testsAll[testName] # Get the Dict of the Test\n",
    "        return tData[\"NoOfQuestions\"]\n",
    "    \n",
    "    def getTestPassNum(self, testName) :\n",
    "        tData = self.testsAll[testName] # Get the Dict of the Test\n",
    "        return tData[\"PassNum\"]\n",
    "\n",
    "    def getTestDifficultyLevel(self, testName) :\n",
    "        tData = self.testsAll[testName] # Get the Dict of the Test\n",
    "        return tData[\"DifficultyLevel\"]\n",
    "        \n",
    "    def getTestList(self, retType = 'J') :\n",
    "        if retType == 'D' :\n",
    "            return(self.testList)\n",
    "        rt = dict()\n",
    "        for key in self.testList.keys() :\n",
    "            rt[key] =  key\n",
    "        return (json.dumps(rt))\n",
    "\n",
    "    \"\"\"\n",
    "    # Misleading - this gets the Question-Bank specific data, that we don't need\n",
    "    def getTestData(self, testName, retType = 'J') :\n",
    "        tData = self.testsAll[testName] # Get the Dict of the Test\n",
    "        return ([tData[\"Qbank1\"][0], tData[\"Qbank1\"][1], tData[\"Qbank1\"][2], tData[\"Qbank1\"][3]])\n",
    "\n",
    "        if retType == 'D' :\n",
    "            return(self.testList)\n",
    "        rt = dict()\n",
    "        for key in self.testList.keys() :\n",
    "            rt[key] =  key\n",
    "        return (json.dumps(rt))\n",
    "    \"\"\"\n",
    "        \n",
    "    def getQuestions(self, testName,retType = 'D',  exam = False) :\n",
    "        tData = self.testsAll[testName] # Get the Dict of the Test\n",
    "        #tData[\"Qbank1\"][0], tData[\"Qbank1\"][0] \n",
    "        #return (tData)\n",
    "        return (self.qb.getQuestions(tData[\"Qbank1\"][0], tData[\"Qbank1\"][1], level=tData[\"Qbank1\"][3], numOfQuestions = tData[\"Qbank1\"][2], retType=retType, exam=exam))\n",
    "        "
   ]
  },
  {
   "cell_type": "code",
   "execution_count": 6,
   "metadata": {
    "collapsed": true
   },
   "outputs": [],
   "source": [
    "if __name__ == \"__main__\":\n",
    "    appC = AppConfig(\"C:\\\\Users\\\\kambhs\\\\Desktop\\\\Projects\\\\OnlineExam\\\\OnlineExamConfig.xlsx\")\n",
    "    qb = QuestionBank(appC)\n",
    "    testBank = TestBank(appC)\n",
    "    testBank.setQuestionBank(qb)\n",
    "    testBank.getQuestions('Java Level 1', exam=True)\n",
    "    testBank.getTestList(retType = 'D')"
   ]
  },
  {
   "cell_type": "code",
   "execution_count": null,
   "metadata": {
    "collapsed": true
   },
   "outputs": [],
   "source": []
  },
  {
   "cell_type": "code",
   "execution_count": null,
   "metadata": {
    "collapsed": true
   },
   "outputs": [],
   "source": []
  },
  {
   "cell_type": "code",
   "execution_count": null,
   "metadata": {
    "collapsed": true
   },
   "outputs": [],
   "source": []
  },
  {
   "cell_type": "code",
   "execution_count": null,
   "metadata": {
    "collapsed": true
   },
   "outputs": [],
   "source": []
  },
  {
   "cell_type": "code",
   "execution_count": null,
   "metadata": {
    "collapsed": true
   },
   "outputs": [],
   "source": []
  }
 ],
 "metadata": {
  "kernelspec": {
   "display_name": "Python 3",
   "language": "python",
   "name": "python3"
  },
  "language_info": {
   "codemirror_mode": {
    "name": "ipython",
    "version": 3
   },
   "file_extension": ".py",
   "mimetype": "text/x-python",
   "name": "python",
   "nbconvert_exporter": "python",
   "pygments_lexer": "ipython3",
   "version": "3.6.1"
  }
 },
 "nbformat": 4,
 "nbformat_minor": 2
}
