{
 "cells": [
  {
   "cell_type": "code",
   "execution_count": 1,
   "metadata": {},
   "outputs": [
    {
     "data": {
      "text/plain": [
       "'\\nProject: OnlineExam\\nDomain: QuestionBank\\nDescription: The QuestionBank Domain handles all functionalities related to questions, answers, topics, subtopics, etc.\\nThe following need to be supplied. Responses are expected to be JSON or dict, depending on a global flag. JSON is for Angular2\\nUI. Ability to return the data as-is allows for alternate processing e.g. storing in DB\\na)-List of Topics (Questions) - This is collected from all the question-banks, check needs to made for Unique\\nb)-List of SubTopics (Questions) - This is collected from all the question-banks, check needs to made for Unique\\ne)List of Tests (Questions) - This is collected from all the Test-Definitions, check needs to made for Unique\\ng)List of Difficulty Levels(Questions) - Collated Test-Definitions\\nh)-List of Question-Banks (Banks with Description) (Questions) \\ni)-List of Questions (without Answers, exam) (Questions)\\nj)-List of Questions (with Answers and Description) (Questions)\\n\\nAuthor: K.Srinivas\\n\\n'"
      ]
     },
     "execution_count": 1,
     "metadata": {},
     "output_type": "execute_result"
    }
   ],
   "source": [
    "\"\"\"\n",
    "Project: OnlineExam\n",
    "Domain: QuestionBank\n",
    "Description: The QuestionBank Domain handles all functionalities related to questions, answers, topics, subtopics, etc.\n",
    "The following need to be supplied. Responses are expected to be JSON or dict, depending on a global flag. JSON is for Angular2\n",
    "UI. Ability to return the data as-is allows for alternate processing e.g. storing in DB\n",
    "a)-List of Topics (Questions) - This is collected from all the question-banks, check needs to made for Unique\n",
    "b)-List of SubTopics (Questions) - This is collected from all the question-banks, check needs to made for Unique\n",
    "h)-List of Question-Banks (Banks with Description) (Questions) \n",
    "i)-List of Questions (without Answers, exam) (Questions) : Randomize, limit to a number, select level\n",
    "j)-List of Questions (with Answers and Description) (Questions)\n",
    "\n",
    "Author: K.Srinivas\n",
    "16-Mar-2018\n",
    "\"\"\"\n"
   ]
  },
  {
   "cell_type": "code",
   "execution_count": 1,
   "metadata": {
    "collapsed": true
   },
   "outputs": [],
   "source": [
    "import glob\n",
    "import openpyxl\n",
    "import pandas as pd\n",
    "import sys\n",
    "import json\n",
    "sys.path.insert(0,'..')\n",
    "\n",
    "from ReadConfig.AppConfig import AppConfig\n",
    "\n",
    "# This class reads reads all the question bank-XLS files and collates data for future use\n",
    "# Data is expected to be small enough to be read and stored in memory. In case the memory is too much,\n",
    "# Only data that is needed is the header-data, actual questions can be re-read on-demand\n",
    "# I use appConfig heavily. All the paths, values needed must be defined in Appconfig\n",
    "class QuestionBank(object) :\n",
    "    def __init__(self, appConf) :\n",
    "        qmatch = appConf.attribute[\"QuestionMatch\"]  # directory containing all question-bank files\n",
    "        tRow = 2 # appConf.attribute[\"TOPICROW\"] # Row to find TOPIC in the XLS-file, will assume the remaining two\n",
    "        tCol = 2 # appConf.attribute[\"TOPICROW\"] \n",
    "        self.qBanksAll = dict() # All question banks stored\n",
    "        self.topics = [] # List of all topics\n",
    "        self.subtopicsList = dict() # Key is TOPIC, Values is a list of subtopics\n",
    "        self.subtopics = dict() # List of all subtopics Key= topic, value=[subtopic, description, df]\n",
    "        self.subtopicsDF = dict() # List of all subtopics Key= topic, value=[subtopic, description, df]\n",
    "        \n",
    "        for file in glob.glob(qmatch):  # For each of the question banks\n",
    "            qbank = dict() # Define a question Bank\n",
    "            #Get title, Get Subtitle, Get Desc\n",
    "            conf_wb = openpyxl.load_workbook(file)\n",
    "            ws = conf_wb.worksheets[0] # Assume only 1 worksheet\n",
    "            if len(conf_wb.worksheets) > 1 : # Error Check\n",
    "                print(\"More than one worksheets found in %s\" % (file))\n",
    "                \n",
    "            c_row =  tRow\n",
    "            qbank[\"TOPIC\"] = ws.cell(row=c_row, column=tCol).value\n",
    "            qbank[\"SUBTOPIC\"] = ws.cell(row=(c_row+1), column=tCol).value # Value\n",
    "            qbank[\"DESCRIPTION\"] = ws.cell(row=(c_row+2), column=tCol).value # Value\n",
    "            conf_wb.close() # Close it here, just to be sure\n",
    "            \n",
    "            df = pd.read_excel(file, header=4) # Skip the first 4 lines, start from the 5th, ZERO indexed\n",
    "            qbank[\"QDF\"] = df # Value\n",
    "            qbank[\"FILENAME\"] = file # Lets store the file name as well.\n",
    "            self.topics.append(qbank[\"TOPIC\"])\n",
    "            key = qbank[\"TOPIC\"] + \";\" + qbank[\"SUBTOPIC\"]\n",
    "            self.subtopics[key]  = qbank[\"DESCRIPTION\"]\n",
    "            self.subtopicsDF[key] = df\n",
    "            if qbank[\"TOPIC\"] not in self.subtopicsList.keys() :\n",
    "                self.subtopicsList[qbank[\"TOPIC\"]] = [] # Create a list\n",
    "            self.subtopicsList[qbank[\"TOPIC\"]].append(qbank[\"SUBTOPIC\"])\n",
    "                        \n",
    "            self.qBanksAll[file] = qbank\n",
    "        self.topics.sort()\n",
    "        \n",
    "    def getTopics(self) :\n",
    "            return json.dumps(self.topics)\n",
    "    \n",
    "    def getSubTopics(self, topic) :\n",
    "            return json.dumps(self.subtopicsList[topic])\n",
    "\n",
    "    #Gets a selection of questions from a Question Bank. Default return type is a JSON\n",
    "    #Level = '0' means that questions without any level distiction to be returned\n",
    "    #If exam is TRUE, answer and discription is not returned.\n",
    "    def getQuestions(self, topic, subtopic, level = '0', numOfQuestions = 0, exam = True , retType = 'J') :\n",
    "        key = topic + \";\" + subtopic\n",
    "        if key not in self.subtopicsDF.keys() :\n",
    "            return json.dumps(\"Questions NOT FOUND\")\n",
    "        dft1 = self.subtopicsDF[key]\n",
    "        df = dft1.dropna() # Drop all rows where ANY value is NA EVERYTHING should be defined\n",
    "\n",
    "        if (level != '0') : # A specific level was defined, get the subset\n",
    "            df = df[df.DifficultyLevel == level]\n",
    "\n",
    "        if numOfQuestions : # A number great than ZERO was specified\n",
    "            if numOfQuestions <= len(df) :\n",
    "                df = df.sample(numOfQuestions) # What happens if numofquestions is > num available? Not sure\n",
    "            else :\n",
    "                df = df.sample(len(df)) # What happens if numofquestions is > num available? Not sure\n",
    "        \n",
    "        if exam : # Exam is set as true\n",
    "            df = df.iloc[:,1:6] # If true, remove answers\n",
    "        else :\n",
    "            df = df.iloc[:,1:]\n",
    "            \n",
    "        \n",
    "        if retType == 'D' : #DataFrame was requested\n",
    "            return (df) # Return the DataFrame Subset\n",
    "        \n",
    "        i = 0 \n",
    "        jstr = \"\"\n",
    "        while i < len(df) :\n",
    "            jstr += df.iloc[i].to_json()\n",
    "            i += 1\n",
    "        return (\"{\" + jstr + \"}\")\n",
    "    \n",
    "   \n",
    "    def getQuestionBanks(self) :\n",
    "        jstr = \"\"\n",
    "        for fn in self.qBanksAll.keys() : \n",
    "            qb = self.qBanksAll[fn]\n",
    "            tl = [qb[\"TOPIC\"],qb[\"SUBTOPIC\"],qb[\"DESCRIPTION\"] ]\n",
    "            jstr += json.dumps(tl)\n",
    "        return (\"{\" + jstr + \"}\")\n",
    "    "
   ]
  },
  {
   "cell_type": "code",
   "execution_count": 2,
   "metadata": {
    "collapsed": true
   },
   "outputs": [],
   "source": [
    "if __name__ == \"__main__\":\n",
    "    appC = AppConfig(\"C:\\\\Users\\\\kambhs\\\\Desktop\\\\Projects\\\\OnlineExam\\\\OnlineExamConfig.xlsx\")\n",
    "    qb = QuestionBank(appC)\n"
   ]
  },
  {
   "cell_type": "code",
   "execution_count": 20,
   "metadata": {
    "collapsed": true
   },
   "outputs": [],
   "source": [
    "if __name__ == \"__main__\":\n",
    "    key = 'Life Insurance' + \";\" + \"Basics of Life Insurance\"\n",
    "    df = qb.subtopicsDF[key]\n",
    "    level = \"E\"\n",
    "    #Sample calls\n",
    "    qb.getQuestions('Life Insurance', \"Basics of Life Insurance\",level=\"E\", numOfQuestions = 20, retType=\"DF\", exam=False)\n",
    "    qb.getQuestions('Life Insurance', \"Basics of Life Insurance\", numOfQuestions=3, exam =False, retType='D')\n",
    "    qb.getQuestions('Life Insurance', \"Basics of Life Insurance\", exam =True)\n",
    "    qb.getSubTopics('Life Insurance')\n",
    "    i =0\n",
    "    while i < len(c) :\n",
    "        print(c.iloc[i].Question)\n",
    "        print(c.iloc[i].OptionA)\n",
    "        print(c.iloc[i].OptionB)\n",
    "        print(c.iloc[i].OptionC)\n",
    "        print(c.iloc[i].OptionD)\n",
    "        print(c.iloc[i].DifficultyLevel)\n",
    "        print(c.iloc[i].Description)\n",
    "        i += 1"
   ]
  },
  {
   "cell_type": "code",
   "execution_count": null,
   "metadata": {},
   "outputs": [],
   "source": []
  },
  {
   "cell_type": "code",
   "execution_count": null,
   "metadata": {},
   "outputs": [],
   "source": []
  },
  {
   "cell_type": "code",
   "execution_count": null,
   "metadata": {
    "collapsed": true
   },
   "outputs": [],
   "source": []
  },
  {
   "cell_type": "code",
   "execution_count": null,
   "metadata": {
    "collapsed": true
   },
   "outputs": [],
   "source": []
  },
  {
   "cell_type": "code",
   "execution_count": null,
   "metadata": {
    "collapsed": true
   },
   "outputs": [],
   "source": []
  },
  {
   "cell_type": "code",
   "execution_count": null,
   "metadata": {
    "collapsed": true
   },
   "outputs": [],
   "source": []
  },
  {
   "cell_type": "code",
   "execution_count": null,
   "metadata": {
    "collapsed": true
   },
   "outputs": [],
   "source": [
    "   "
   ]
  },
  {
   "cell_type": "code",
   "execution_count": null,
   "metadata": {
    "collapsed": true
   },
   "outputs": [],
   "source": []
  }
 ],
 "metadata": {
  "kernelspec": {
   "display_name": "Python 3",
   "language": "python",
   "name": "python3"
  },
  "language_info": {
   "codemirror_mode": {
    "name": "ipython",
    "version": 3
   },
   "file_extension": ".py",
   "mimetype": "text/x-python",
   "name": "python",
   "nbconvert_exporter": "python",
   "pygments_lexer": "ipython3",
   "version": "3.6.1"
  }
 },
 "nbformat": 4,
 "nbformat_minor": 2
}
