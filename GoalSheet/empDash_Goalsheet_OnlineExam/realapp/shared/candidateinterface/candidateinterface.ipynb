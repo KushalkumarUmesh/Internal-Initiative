{
 "cells": [
  {
   "cell_type": "code",
   "execution_count": null,
   "metadata": {
    "collapsed": true
   },
   "outputs": [],
   "source": [
    "\"\"\"\n",
    "Project: OnlineExam\n",
    "Domain: CandidateInteface\n",
    "Description: This is an Interface to provide the the following:\n",
    "a) Candidate ID - Unique-key\n",
    "b) Candidate eMail - Unique \n",
    "c) Candidate Name\n",
    "d) Candidate Designation (optional)\n",
    "=> It should be possible to retrieve the data if either the ID or e-mail is given.\n",
    "It is assumed that this data comes from \"somewhere\", may be HRMS or where-ever. \n",
    "The currently implementation is only a dummy to support completion of the rest of the implementation.\n",
    "The following Users are statically created :\n",
    "srinivas.kambhampati@msg-global.com, 274\n",
    "tulsi\n",
    "mohit\n",
    "\n",
    "\n",
    "Author: K.Srinivas\n",
    "16-Mar-2018\n",
    "\"\"\""
   ]
  },
  {
   "cell_type": "code",
   "execution_count": null,
   "metadata": {
    "collapsed": true
   },
   "outputs": [],
   "source": [
    "import sys\n",
    "import json\n",
    "sys.path.insert(0,'..')\n",
    "\n",
    "from ReadConfig.AppConfig import AppConfig"
   ]
  },
  {
   "cell_type": "code",
   "execution_count": 19,
   "metadata": {
    "collapsed": true
   },
   "outputs": [],
   "source": [
    "class CandidateInteface(object) :\n",
    "    def __init__(self) :\n",
    "        self.emailDict = dict()\n",
    "        self.empNoDict = dict()\n",
    "        self.empNameDict = dict() # Not using this\n",
    "        self.emailDict[\"srinivas.kambhampati@msg-global.com\"] = 274\n",
    "        self.emailDict[\"tulsi.Das.bhatt@msg-global.com\"] = 280\n",
    "        self.emailDict[\"mohitchandra.tuli@msg-global.com\"] = 300\n",
    "        self.emailDict[\"sridhar.kalyanam@msg-global.com\"] = 75\n",
    "        self.empNoDict[274] = \"srinivas.kambhampati@msg-global.com\"\n",
    "        self.empNoDict[280] = \"tulsi.Das.bhatt@msg-global.com\"\n",
    "        self.empNoDict[300] =  \"mohitchandra.tuli@msg-global.com\"\n",
    "        self.empNoDict[75] = \"sridhar.kalyanam@msg-global.com\"\n",
    "\n",
    "    def getEmailByEmpNum(self, empNo) :\n",
    "        return  self.empNoDict[empNo]\n",
    "    \n",
    "    def getEmpNumByEmail(self, email) :\n",
    "        return  self.emailDict[email]\n",
    "    \"\"\"\n",
    "    class User :\n",
    "        empNo = 0\n",
    "        eMail = 'NA'\n",
    "        name = 'NA'\n",
    "\n",
    "        def __init__(self, empNo, eMail, name) :\n",
    "            self.empNo = empNo\n",
    "            self.eMail = eMail\n",
    "            self.name = name\n",
    "    \"\"\"\n"
   ]
  },
  {
   "cell_type": "code",
   "execution_count": 23,
   "metadata": {},
   "outputs": [
    {
     "name": "stdout",
     "output_type": "stream",
     "text": [
      "emp no of srini:274\n",
      "email ID of srini:srinivas.kambhampati@msg-global.com\n"
     ]
    }
   ],
   "source": [
    "if __name__ == \"__main__\":\n",
    "    canint = CandidateInteface()\n",
    "    print(\"emp no of srini:\" + str(canint.getEmpNumByEmail(\"srinivas.kambhampati@msg-global.com\")))\n",
    "    print(\"email ID of srini:\" + canint.getEmailByEmpNum(274))\n",
    "    "
   ]
  },
  {
   "cell_type": "code",
   "execution_count": null,
   "metadata": {
    "collapsed": true
   },
   "outputs": [],
   "source": []
  },
  {
   "cell_type": "code",
   "execution_count": null,
   "metadata": {
    "collapsed": true
   },
   "outputs": [],
   "source": []
  },
  {
   "cell_type": "code",
   "execution_count": null,
   "metadata": {
    "collapsed": true
   },
   "outputs": [],
   "source": []
  }
 ],
 "metadata": {
  "kernelspec": {
   "display_name": "Python 3",
   "language": "python",
   "name": "python3"
  },
  "language_info": {
   "codemirror_mode": {
    "name": "ipython",
    "version": 3
   },
   "file_extension": ".py",
   "mimetype": "text/x-python",
   "name": "python",
   "nbconvert_exporter": "python",
   "pygments_lexer": "ipython3",
   "version": "3.6.1"
  }
 },
 "nbformat": 4,
 "nbformat_minor": 2
}
