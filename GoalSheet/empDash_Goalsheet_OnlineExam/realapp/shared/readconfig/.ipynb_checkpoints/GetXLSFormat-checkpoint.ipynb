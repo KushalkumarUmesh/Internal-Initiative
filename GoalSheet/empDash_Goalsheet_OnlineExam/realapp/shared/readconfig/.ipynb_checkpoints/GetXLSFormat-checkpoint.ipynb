{
 "cells": [
  {
   "cell_type": "code",
   "execution_count": 42,
   "metadata": {},
   "outputs": [],
   "source": [
    "import openpyxl\n",
    "\n",
    "class GetXLSFormat(object) :\n",
    "    def __init__(self, configInfile, maxCol=50) :\n",
    "        self.configInfile = configInfile\n",
    "        self.attribute = {}  # Dict of Attributes\n",
    "        self.noOfSheets = 0 #\n",
    "        self.maxCol = maxCol\n",
    "        self.readXLSFile() \n",
    "        \n",
    "    #Reading the file, and save key:Value pairs, convert everything into String\n",
    "    def readXLSFile(self) :\n",
    "        conf_wb = openpyxl.load_workbook(self.configInfile)\n",
    "        self.noOfSheets = len(conf_wb.worksheets)\n",
    "        ws = conf_wb.worksheets[0]\n",
    "        c_row = 1 # We only read the 1st coll of fist sheet\n",
    "        c_col = 0\n",
    "        circuitBreaker = self.maxCol\n",
    "        while circuitBreaker :\n",
    "            c_col += 1\n",
    "            circuitBreaker -= 1 # Decrement\n",
    "            if not circuitBreaker : # Hit zero\n",
    "                break # get out of the loop, enough\n",
    "            c = ws.cell(row=c_row, column=c_col).value\n",
    "            c= str(c) # Convert to String, just to be sure\n",
    "            c= c.strip() # Remove white space\n",
    "            if c :\n",
    "                self.attribute[c] = 1 \n",
    "            else :\n",
    "                break # Stop on 1st Empty Col\n",
    "        conf_wb.close()\n",
    "        return (0)\n",
    "\n",
    "    def noOfSheetsMoreThanOne(self) :\n",
    "        if self.noOfSheets == 1 :\n",
    "            return False\n",
    "        else :\n",
    "            return True\n",
    "\n",
    "    #Confirm that Header contains the headings we need. List should contain the head-titles\n",
    "    def confirmHeader(self, list, printerror = False ) :\n",
    "        ret_val = True # Return true if everything is hunky-dory\n",
    "        for i in list :\n",
    "            if i not in self.attribute.keys() :\n",
    "                ret_val = False # Flag error\n",
    "                if printerror : \n",
    "                    print(\"Fatal: Header Item:%s: not a column in the file:%s\" % (i, self.configInfile)) # Print on screen if needed\n",
    "            else :\n",
    "                continue\n",
    "        return(ret_val)\n",
    "\n"
   ]
  },
  {
   "cell_type": "code",
   "execution_count": 43,
   "metadata": {
    "collapsed": true
   },
   "outputs": [],
   "source": [
    "c = GetXLSFormat(\"C:/Users/kambhs/Desktop/Learning/OpenPyxl/BCS/Employee BCS Bookings_Mar18_12-03-2018.xlsx\")"
   ]
  },
  {
   "cell_type": "code",
   "execution_count": 44,
   "metadata": {},
   "outputs": [
    {
     "data": {
      "text/plain": [
       "{'Billability': 1,\n",
       " 'Community': 1,\n",
       " 'Creator': 1,\n",
       " 'Date': 1,\n",
       " 'Day/Hourly Rate External': 1,\n",
       " 'Day/Hourly Rate External (Currency)': 1,\n",
       " 'Description': 1,\n",
       " 'Duration': 1,\n",
       " 'Employee': 1,\n",
       " 'Employee cost centre': 1,\n",
       " 'Employment date': 1,\n",
       " 'End': 1,\n",
       " 'From': 1,\n",
       " 'Function': 1,\n",
       " 'Global career level': 1,\n",
       " 'Incentive hrs': 1,\n",
       " 'Intercompany chargeability': 1,\n",
       " 'Internal Rate': 1,\n",
       " 'Internal Rate (Currency)': 1,\n",
       " 'None': 1,\n",
       " 'Project': 1,\n",
       " 'Project Currency': 1,\n",
       " 'Project cost centre': 1,\n",
       " 'Project-ID': 1,\n",
       " 'Start': 1,\n",
       " 'Status': 1,\n",
       " 'Subtype': 1,\n",
       " 'Task': 1,\n",
       " 'Task IC relevance(%)': 1,\n",
       " 'Task ID': 1,\n",
       " 'Task billablity': 1,\n",
       " 'Type of contract': 1,\n",
       " 'Type of project': 1,\n",
       " 'Utilization relevant': 1}"
      ]
     },
     "execution_count": 44,
     "metadata": {},
     "output_type": "execute_result"
    }
   ],
   "source": [
    "c.attribute"
   ]
  },
  {
   "cell_type": "code",
   "execution_count": 45,
   "metadata": {},
   "outputs": [
    {
     "data": {
      "text/plain": [
       "True"
      ]
     },
     "execution_count": 45,
     "metadata": {},
     "output_type": "execute_result"
    }
   ],
   "source": [
    "c.confirmHeader(['Community','Project'])"
   ]
  },
  {
   "cell_type": "code",
   "execution_count": null,
   "metadata": {
    "collapsed": true
   },
   "outputs": [],
   "source": []
  }
 ],
 "metadata": {
  "kernelspec": {
   "display_name": "Python 3",
   "language": "python",
   "name": "python3"
  },
  "language_info": {
   "codemirror_mode": {
    "name": "ipython",
    "version": 3
   },
   "file_extension": ".py",
   "mimetype": "text/x-python",
   "name": "python",
   "nbconvert_exporter": "python",
   "pygments_lexer": "ipython3",
   "version": "3.6.1"
  }
 },
 "nbformat": 4,
 "nbformat_minor": 2
}
